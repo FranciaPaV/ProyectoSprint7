{
 "cells": [
  {
   "cell_type": "code",
   "execution_count": null,
   "id": "21ee23ac",
   "metadata": {
    "vscode": {
     "languageId": "plaintext"
    }
   },
   "outputs": [],
   "source": [
    "import pandas as pd\n",
    "import plotly.express as px\n",
    "\n",
    "# Carga de datos\n",
    "df = pd.read_csv('../vehicles_us.csv')  # Nota: usa ../ si estás dentro de /notebooks\n",
    "\n",
    "# Primer vistazo\n",
    "df.head()"
   ]
  }
 ],
 "metadata": {
  "language_info": {
   "name": "python"
  }
 },
 "nbformat": 4,
 "nbformat_minor": 5
}
